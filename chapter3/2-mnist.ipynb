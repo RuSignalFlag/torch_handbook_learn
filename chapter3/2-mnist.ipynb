{
 "cells": [
  {
   "cell_type": "code",
   "execution_count": 15,
   "metadata": {
    "collapsed": true
   },
   "outputs": [],
   "source": [
    "import torch\n",
    "import torch.nn as nn\n",
    "import torch.nn.functional as F\n",
    "import torch.optim as optim\n",
    "from torchvision import datasets,transforms\n"
   ]
  },
  {
   "cell_type": "markdown",
   "source": [
    "3.2 MNIST数据集手写数字识别\n",
    "3.2.1 数据集介绍\n",
    "MNIST 包括6万张28x28的训练样本，1万张测试样本，很多教程都会对它”下手”几乎成为一个 “典范”，可以说它就是计算机视觉里面的Hello World。所以我们这里也会使用MNIST来进行实战。\n",
    "\n",
    "前面在介绍卷积神经网络的时候说到过LeNet-5，LeNet-5之所以强大就是因为在当时的环境下将MNIST数据的识别率提高到了99%，这里我们也自己从头搭建一个卷积神经网络，也达到99%的准确率\n",
    "\n",
    "3.2.2 手写数字识别\n",
    "首先，我们定义一些超参数"
   ],
   "metadata": {
    "collapsed": false
   }
  },
  {
   "cell_type": "code",
   "execution_count": 16,
   "outputs": [],
   "source": [
    "BATCH_SIZE = 512 #大概需要2G显存\n",
    "EPOCHS = 20#迭代20次\n",
    "DEVICE = torch.device('cuda'if torch.cuda.is_available() else 'cpu') #让torch判断是否使用GPU"
   ],
   "metadata": {
    "collapsed": false
   }
  },
  {
   "cell_type": "markdown",
   "source": [
    "因为Pytorch里面包含了MNIST的数据集，所以我们这里直接使用即可。 如果第一次执行会生成data文件夹，并且需要一些时间下载，如果以前下载过就不会再次下载了\n",
    "\n",
    "由于官方已经实现了dataset，所以这里可以直接使用DataLoader来对数据进行读取"
   ],
   "metadata": {
    "collapsed": false
   }
  },
  {
   "cell_type": "code",
   "execution_count": 17,
   "outputs": [],
   "source": [
    "train_loader = torch.utils.data.DataLoader(\n",
    "    datasets.MNIST('data',train=True,download=True,\n",
    "                   transform=transforms.Compose([\n",
    "                        transforms.ToTensor(),\n",
    "                        transforms.Normalize((0.1307,),(0.3081,))\n",
    "                   ])),\n",
    "    batch_size = BATCH_SIZE,shuffle = True)"
   ],
   "metadata": {
    "collapsed": false
   }
  },
  {
   "cell_type": "code",
   "execution_count": 18,
   "outputs": [],
   "source": [
    "test_loader = torch.utils.data.DataLoader(\n",
    "    datasets.MNIST('data', train=False, transform=transforms.Compose([\n",
    "                           transforms.ToTensor(),\n",
    "                           transforms.Normalize((0.1307,), (0.3081,))\n",
    "                       ])),\n",
    "    batch_size=BATCH_SIZE, shuffle=True)"
   ],
   "metadata": {
    "collapsed": false
   }
  },
  {
   "cell_type": "markdown",
   "source": [
    "下面我们定义一个网络，网络包含两个卷积层，conv1和conv2，然后紧接着两个线性层作为输出，最后输出10个维度，这10个维度我们作为0-9的标识来确定识别出的是那个数字\n",
    "\n",
    "在这里建议大家将每一层的输入和输出维度都作为注释标注出来，这样后面阅读代码的会方便很多"
   ],
   "metadata": {
    "collapsed": false
   }
  },
  {
   "cell_type": "code",
   "execution_count": 19,
   "outputs": [],
   "source": [
    "class ConvNet(nn.Module):\n",
    "    def __init__(self):\n",
    "        super().__init__()\n",
    "        #batch*1*28*28（每次会送入batch个样本，输入通道数1（黑白图像），图像分辨率是28x28）\n",
    "        #下面的卷积层Conv2d的第一个参数指定输入通道数，第二个参数指定输出通道数，第三个参数指定卷积核的大小\n",
    "        self.conv1 = nn.Conv2d(1,10,5)# ((n-f+2p)/s)+1 向下取整\n",
    "        self.conv2 = nn.Conv2d(10,20,3)\n",
    "        #下面的全连接层第一个参数指定输入特征数，第二个参数指定输出特征数\n",
    "        self.fc1 = nn.Linear(20*10*10,500)\n",
    "        self.fc2 = nn.Linear(500,10)\n",
    "    def forward(self,x):\n",
    "        in_size = x.size(0)#在本例中in_size=512，也就是BATCH_SIZE的值。输入的x可以看成是512*1*28*28的张量\n",
    "        out = self.conv1(x)# batch*1*28*28 -> batch*10*24*24（28x28的图像经过一次核为5x5的卷积，输出变为24x24）\n",
    "        out = F.relu(out) # batch*10*24*24（激活函数ReLU不改变形状））\n",
    "        out = F.max_pool2d(out,2,2)# batch*10*24*24 -> batch*10*12*12（2*2的池化层会减半）\n",
    "        out = self.conv2(out)# batch*10*12*12 -> batch*20*10*10（再卷积一次，核的大小是3）\n",
    "        out = F.relu(out)# batch*20*10*10\n",
    "        out = out.view(in_size,-1)# batch*20*10*10 -> batch*2000（out的第二维是-1，说明是自动推算，本例中第二维是20*10*10）\n",
    "        out = self.fc1(out) # batch*2000 -> batch*500\n",
    "        out = F.relu(out)# batch*500\n",
    "        out = self.fc2(out)# batch*500 -> batch*10\n",
    "        out = F.log_softmax(out,dim=1)# 计算log(softmax(x)) dim=1表示按列计算\n",
    "        return out"
   ],
   "metadata": {
    "collapsed": false
   }
  },
  {
   "cell_type": "markdown",
   "source": [
    "我们实例化一个网络，实例化后使用.to方法将网络移动到GPU\n",
    "\n",
    "优化器我们也直接选择简单暴力的Adam\n",
    "\n"
   ],
   "metadata": {
    "collapsed": false
   }
  },
  {
   "cell_type": "code",
   "execution_count": 20,
   "outputs": [],
   "source": [
    "model = ConvNet().to(DEVICE)\n",
    "optim = optim.Adam(model.parameters())"
   ],
   "metadata": {
    "collapsed": false
   }
  },
  {
   "cell_type": "code",
   "execution_count": 21,
   "outputs": [],
   "source": [
    "def train(model,device,train_loader,optim,epoch):\n",
    "    model.train()#指定训练模式\n",
    "    for batch_idx,(data,target) in enumerate(train_loader):\n",
    "        data,target = data.to(device),target.to(device)\n",
    "        optim.zero_grad()\n",
    "        output = model(data)\n",
    "        loss = F.nll_loss(output,target)\n",
    "        loss.backward()\n",
    "        optim.step()\n",
    "        if (batch_idx+1)%30 == 0:\n",
    "            print('Train Epoch: {} [{}/{} ({:.0f}%)]\\tLoss: {:.6f}'.format(\n",
    "                epoch, batch_idx * len(data), len(train_loader.dataset),\n",
    "                100. * batch_idx / len(train_loader), loss.item()))"
   ],
   "metadata": {
    "collapsed": false
   }
  },
  {
   "cell_type": "code",
   "execution_count": 22,
   "outputs": [],
   "source": [
    "def test(model, device, test_loader):\n",
    "    model.eval()\n",
    "    test_loss = 0\n",
    "    correct = 0\n",
    "    with torch.no_grad():\n",
    "        for data, target in test_loader:\n",
    "            data, target = data.to(device), target.to(device)\n",
    "            output = model(data)\n",
    "            test_loss += F.nll_loss(output, target, reduction='sum').item() # 将一批的损失相加\n",
    "            pred = output.max(1, keepdim=True)[1] # 找到概率最大的下标\n",
    "            correct += pred.eq(target.view_as(pred)).sum().item()\n",
    "\n",
    "    test_loss /= len(test_loader.dataset)\n",
    "    print('\\nTest set: Average loss: {:.4f}, Accuracy: {}/{} ({:.0f}%)\\n'.format(\n",
    "        test_loss, correct, len(test_loader.dataset),\n",
    "        100. * correct / len(test_loader.dataset)))"
   ],
   "metadata": {
    "collapsed": false
   }
  },
  {
   "cell_type": "code",
   "execution_count": 23,
   "outputs": [
    {
     "name": "stdout",
     "output_type": "stream",
     "text": [
      "Train Epoch: 1 [14848/60000 (25%)]\tLoss: 0.316750\n",
      "Train Epoch: 1 [30208/60000 (50%)]\tLoss: 0.209471\n",
      "Train Epoch: 1 [45568/60000 (75%)]\tLoss: 0.161886\n",
      "\n",
      "Test set: Average loss: 0.0899, Accuracy: 9734/10000 (97%)\n",
      "\n",
      "Train Epoch: 2 [14848/60000 (25%)]\tLoss: 0.078537\n",
      "Train Epoch: 2 [30208/60000 (50%)]\tLoss: 0.066543\n",
      "Train Epoch: 2 [45568/60000 (75%)]\tLoss: 0.079835\n",
      "\n",
      "Test set: Average loss: 0.0660, Accuracy: 9782/10000 (98%)\n",
      "\n",
      "Train Epoch: 3 [14848/60000 (25%)]\tLoss: 0.031043\n",
      "Train Epoch: 3 [30208/60000 (50%)]\tLoss: 0.042085\n",
      "Train Epoch: 3 [45568/60000 (75%)]\tLoss: 0.087403\n",
      "\n",
      "Test set: Average loss: 0.0412, Accuracy: 9867/10000 (99%)\n",
      "\n",
      "Train Epoch: 4 [14848/60000 (25%)]\tLoss: 0.044869\n",
      "Train Epoch: 4 [30208/60000 (50%)]\tLoss: 0.074912\n",
      "Train Epoch: 4 [45568/60000 (75%)]\tLoss: 0.049452\n",
      "\n",
      "Test set: Average loss: 0.0453, Accuracy: 9845/10000 (98%)\n",
      "\n",
      "Train Epoch: 5 [14848/60000 (25%)]\tLoss: 0.026344\n",
      "Train Epoch: 5 [30208/60000 (50%)]\tLoss: 0.036668\n",
      "Train Epoch: 5 [45568/60000 (75%)]\tLoss: 0.028507\n",
      "\n",
      "Test set: Average loss: 0.0403, Accuracy: 9862/10000 (99%)\n",
      "\n",
      "Train Epoch: 6 [14848/60000 (25%)]\tLoss: 0.047036\n",
      "Train Epoch: 6 [30208/60000 (50%)]\tLoss: 0.039624\n",
      "Train Epoch: 6 [45568/60000 (75%)]\tLoss: 0.013377\n",
      "\n",
      "Test set: Average loss: 0.0292, Accuracy: 9905/10000 (99%)\n",
      "\n",
      "Train Epoch: 7 [14848/60000 (25%)]\tLoss: 0.007251\n",
      "Train Epoch: 7 [30208/60000 (50%)]\tLoss: 0.020016\n",
      "Train Epoch: 7 [45568/60000 (75%)]\tLoss: 0.027926\n",
      "\n",
      "Test set: Average loss: 0.0282, Accuracy: 9909/10000 (99%)\n",
      "\n",
      "Train Epoch: 8 [14848/60000 (25%)]\tLoss: 0.026397\n",
      "Train Epoch: 8 [30208/60000 (50%)]\tLoss: 0.021303\n",
      "Train Epoch: 8 [45568/60000 (75%)]\tLoss: 0.008216\n",
      "\n",
      "Test set: Average loss: 0.0347, Accuracy: 9885/10000 (99%)\n",
      "\n",
      "Train Epoch: 9 [14848/60000 (25%)]\tLoss: 0.010069\n",
      "Train Epoch: 9 [30208/60000 (50%)]\tLoss: 0.010518\n",
      "Train Epoch: 9 [45568/60000 (75%)]\tLoss: 0.007580\n",
      "\n",
      "Test set: Average loss: 0.0282, Accuracy: 9908/10000 (99%)\n",
      "\n",
      "Train Epoch: 10 [14848/60000 (25%)]\tLoss: 0.008980\n",
      "Train Epoch: 10 [30208/60000 (50%)]\tLoss: 0.010047\n",
      "Train Epoch: 10 [45568/60000 (75%)]\tLoss: 0.010317\n",
      "\n",
      "Test set: Average loss: 0.0323, Accuracy: 9899/10000 (99%)\n",
      "\n",
      "Train Epoch: 11 [14848/60000 (25%)]\tLoss: 0.012933\n",
      "Train Epoch: 11 [30208/60000 (50%)]\tLoss: 0.009750\n",
      "Train Epoch: 11 [45568/60000 (75%)]\tLoss: 0.015802\n",
      "\n",
      "Test set: Average loss: 0.0286, Accuracy: 9914/10000 (99%)\n",
      "\n",
      "Train Epoch: 12 [14848/60000 (25%)]\tLoss: 0.002329\n",
      "Train Epoch: 12 [30208/60000 (50%)]\tLoss: 0.004161\n",
      "Train Epoch: 12 [45568/60000 (75%)]\tLoss: 0.003239\n",
      "\n",
      "Test set: Average loss: 0.0266, Accuracy: 9915/10000 (99%)\n",
      "\n",
      "Train Epoch: 13 [14848/60000 (25%)]\tLoss: 0.002975\n",
      "Train Epoch: 13 [30208/60000 (50%)]\tLoss: 0.003079\n",
      "Train Epoch: 13 [45568/60000 (75%)]\tLoss: 0.002687\n",
      "\n",
      "Test set: Average loss: 0.0306, Accuracy: 9902/10000 (99%)\n",
      "\n",
      "Train Epoch: 14 [14848/60000 (25%)]\tLoss: 0.002253\n",
      "Train Epoch: 14 [30208/60000 (50%)]\tLoss: 0.003343\n",
      "Train Epoch: 14 [45568/60000 (75%)]\tLoss: 0.002913\n",
      "\n",
      "Test set: Average loss: 0.0307, Accuracy: 9911/10000 (99%)\n",
      "\n",
      "Train Epoch: 15 [14848/60000 (25%)]\tLoss: 0.002340\n",
      "Train Epoch: 15 [30208/60000 (50%)]\tLoss: 0.002079\n",
      "Train Epoch: 15 [45568/60000 (75%)]\tLoss: 0.001214\n",
      "\n",
      "Test set: Average loss: 0.0298, Accuracy: 9909/10000 (99%)\n",
      "\n",
      "Train Epoch: 16 [14848/60000 (25%)]\tLoss: 0.002840\n",
      "Train Epoch: 16 [30208/60000 (50%)]\tLoss: 0.004471\n",
      "Train Epoch: 16 [45568/60000 (75%)]\tLoss: 0.007373\n",
      "\n",
      "Test set: Average loss: 0.0379, Accuracy: 9901/10000 (99%)\n",
      "\n",
      "Train Epoch: 17 [14848/60000 (25%)]\tLoss: 0.001611\n",
      "Train Epoch: 17 [30208/60000 (50%)]\tLoss: 0.013118\n",
      "Train Epoch: 17 [45568/60000 (75%)]\tLoss: 0.000868\n",
      "\n",
      "Test set: Average loss: 0.0302, Accuracy: 9907/10000 (99%)\n",
      "\n",
      "Train Epoch: 18 [14848/60000 (25%)]\tLoss: 0.002457\n",
      "Train Epoch: 18 [30208/60000 (50%)]\tLoss: 0.006574\n",
      "Train Epoch: 18 [45568/60000 (75%)]\tLoss: 0.010671\n",
      "\n",
      "Test set: Average loss: 0.0358, Accuracy: 9895/10000 (99%)\n",
      "\n",
      "Train Epoch: 19 [14848/60000 (25%)]\tLoss: 0.002248\n",
      "Train Epoch: 19 [30208/60000 (50%)]\tLoss: 0.001038\n",
      "Train Epoch: 19 [45568/60000 (75%)]\tLoss: 0.004015\n",
      "\n",
      "Test set: Average loss: 0.0396, Accuracy: 9890/10000 (99%)\n",
      "\n",
      "Train Epoch: 20 [14848/60000 (25%)]\tLoss: 0.001887\n",
      "Train Epoch: 20 [30208/60000 (50%)]\tLoss: 0.005585\n",
      "Train Epoch: 20 [45568/60000 (75%)]\tLoss: 0.001250\n",
      "\n",
      "Test set: Average loss: 0.0327, Accuracy: 9912/10000 (99%)\n",
      "\n"
     ]
    }
   ],
   "source": [
    "for epoch in range(1,EPOCHS+1):\n",
    "    train(model,DEVICE,train_loader,optim,epoch)\n",
    "    test(model,DEVICE,test_loader)"
   ],
   "metadata": {
    "collapsed": false
   }
  },
  {
   "cell_type": "code",
   "execution_count": null,
   "outputs": [],
   "source": [],
   "metadata": {
    "collapsed": false
   }
  }
 ],
 "metadata": {
  "kernelspec": {
   "name": "torch",
   "language": "python",
   "display_name": "torch"
  },
  "language_info": {
   "codemirror_mode": {
    "name": "ipython",
    "version": 2
   },
   "file_extension": ".py",
   "mimetype": "text/x-python",
   "name": "python",
   "nbconvert_exporter": "python",
   "pygments_lexer": "ipython2",
   "version": "2.7.6"
  }
 },
 "nbformat": 4,
 "nbformat_minor": 0
}
